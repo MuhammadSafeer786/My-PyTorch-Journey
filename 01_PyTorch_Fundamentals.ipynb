{
  "nbformat": 4,
  "nbformat_minor": 0,
  "metadata": {
    "colab": {
      "provenance": [],
      "authorship_tag": "ABX9TyOimIsNKFLpq8z5jeceWHIF",
      "include_colab_link": true
    },
    "kernelspec": {
      "name": "python3",
      "display_name": "Python 3"
    },
    "language_info": {
      "name": "python"
    }
  },
  "cells": [
    {
      "cell_type": "markdown",
      "metadata": {
        "id": "view-in-github",
        "colab_type": "text"
      },
      "source": [
        "<a href=\"https://colab.research.google.com/github/MuhammadSafeer786/My-PyTorch-Journey/blob/main/01_PyTorch_Fundamentals.ipynb\" target=\"_parent\"><img src=\"https://colab.research.google.com/assets/colab-badge.svg\" alt=\"Open In Colab\"/></a>"
      ]
    },
    {
      "cell_type": "markdown",
      "source": [
        "Recources :\n",
        "\n",
        "1- Github https://github.com/mrdbourke/pytorch-deep-learning\n",
        "\n",
        "2- Book https://learnpytorch.io\n",
        "\n",
        "3- Pytorch https://pytorch.org\n",
        "\n",
        "4- Pytorch Forum"
      ],
      "metadata": {
        "id": "hl-tK0rdb0uW"
      }
    },
    {
      "cell_type": "code",
      "execution_count": null,
      "metadata": {
        "colab": {
          "base_uri": "https://localhost:8080/"
        },
        "id": "N8pMm7WFEmSj",
        "outputId": "68aa2ee0-b779-4ea3-dddf-f7abd5158fd9"
      },
      "outputs": [
        {
          "output_type": "stream",
          "name": "stdout",
          "text": [
            "2.5.1+cu121\n"
          ]
        }
      ],
      "source": [
        "import torch\n",
        "import pandas as pd\n",
        "import numpy as np\n",
        "import matplotlib.pyplot as plt\n",
        "print(torch.__version__)"
      ]
    },
    {
      "cell_type": "markdown",
      "source": [
        "## Introduction to Tensors\n",
        "\n",
        "### Creating Tensors"
      ],
      "metadata": {
        "id": "AWOFCLi-GblT"
      }
    },
    {
      "cell_type": "code",
      "source": [
        "#scalar\n",
        "scalar = torch.tensor(7)\n",
        "scalar"
      ],
      "metadata": {
        "colab": {
          "base_uri": "https://localhost:8080/"
        },
        "id": "CyxyeePQGCkD",
        "outputId": "b30ff9f1-4988-4b25-f433-ec9708f0456d"
      },
      "execution_count": null,
      "outputs": [
        {
          "output_type": "execute_result",
          "data": {
            "text/plain": [
              "tensor(7)"
            ]
          },
          "metadata": {},
          "execution_count": 2
        }
      ]
    },
    {
      "cell_type": "code",
      "source": [
        "scalar.ndim"
      ],
      "metadata": {
        "colab": {
          "base_uri": "https://localhost:8080/"
        },
        "id": "_iDUX2DtJTxm",
        "outputId": "98446ae1-1fe5-4dc6-d54d-1cfe9ea3dfed"
      },
      "execution_count": null,
      "outputs": [
        {
          "output_type": "execute_result",
          "data": {
            "text/plain": [
              "0"
            ]
          },
          "metadata": {},
          "execution_count": 3
        }
      ]
    },
    {
      "cell_type": "code",
      "source": [
        "scalar.item()"
      ],
      "metadata": {
        "colab": {
          "base_uri": "https://localhost:8080/"
        },
        "id": "osdVCOfmJ5ol",
        "outputId": "20ee8a55-8a45-4689-d509-fc08bcc73baa"
      },
      "execution_count": null,
      "outputs": [
        {
          "output_type": "execute_result",
          "data": {
            "text/plain": [
              "7"
            ]
          },
          "metadata": {},
          "execution_count": 4
        }
      ]
    },
    {
      "cell_type": "code",
      "source": [
        "#vector\n",
        "vector = torch.tensor([7,7])\n",
        "vector"
      ],
      "metadata": {
        "colab": {
          "base_uri": "https://localhost:8080/"
        },
        "id": "bGp8ZnHpKEwT",
        "outputId": "3b8a31d4-85c8-41b2-ea6d-2b9d0dcbb688"
      },
      "execution_count": null,
      "outputs": [
        {
          "output_type": "execute_result",
          "data": {
            "text/plain": [
              "tensor([7, 7])"
            ]
          },
          "metadata": {},
          "execution_count": 5
        }
      ]
    },
    {
      "cell_type": "code",
      "source": [
        "vector.ndim"
      ],
      "metadata": {
        "colab": {
          "base_uri": "https://localhost:8080/"
        },
        "id": "7hrlRAMtLCFe",
        "outputId": "1a7f3095-a58f-42a9-b1d5-e417bb3c0aaa"
      },
      "execution_count": null,
      "outputs": [
        {
          "output_type": "execute_result",
          "data": {
            "text/plain": [
              "1"
            ]
          },
          "metadata": {},
          "execution_count": 6
        }
      ]
    },
    {
      "cell_type": "code",
      "source": [
        "vector.shape"
      ],
      "metadata": {
        "colab": {
          "base_uri": "https://localhost:8080/"
        },
        "id": "OekhcFk8LCDD",
        "outputId": "5e9b5080-4d52-43c2-bf6b-37dccba99474"
      },
      "execution_count": null,
      "outputs": [
        {
          "output_type": "execute_result",
          "data": {
            "text/plain": [
              "torch.Size([2])"
            ]
          },
          "metadata": {},
          "execution_count": 7
        }
      ]
    },
    {
      "cell_type": "code",
      "source": [
        "vector[0]"
      ],
      "metadata": {
        "colab": {
          "base_uri": "https://localhost:8080/"
        },
        "id": "4rd-N98QMXHL",
        "outputId": "d2ed5f67-feb3-42b9-9813-a1b7c8db46d5"
      },
      "execution_count": null,
      "outputs": [
        {
          "output_type": "execute_result",
          "data": {
            "text/plain": [
              "tensor(7)"
            ]
          },
          "metadata": {},
          "execution_count": 8
        }
      ]
    },
    {
      "cell_type": "code",
      "source": [
        "Matrix = torch.tensor([[7,8],[9,7]])\n",
        "Matrix"
      ],
      "metadata": {
        "colab": {
          "base_uri": "https://localhost:8080/"
        },
        "id": "WVufiJWCLCAQ",
        "outputId": "65acf436-9103-4788-e85f-46f324646f7d"
      },
      "execution_count": null,
      "outputs": [
        {
          "output_type": "execute_result",
          "data": {
            "text/plain": [
              "tensor([[7, 8],\n",
              "        [9, 7]])"
            ]
          },
          "metadata": {},
          "execution_count": 9
        }
      ]
    },
    {
      "cell_type": "code",
      "source": [
        "Matrix[1]"
      ],
      "metadata": {
        "colab": {
          "base_uri": "https://localhost:8080/"
        },
        "id": "TRRjrgn7LBeH",
        "outputId": "011cfcad-d807-4600-dc9c-4826a39afedd"
      },
      "execution_count": null,
      "outputs": [
        {
          "output_type": "execute_result",
          "data": {
            "text/plain": [
              "tensor([9, 7])"
            ]
          },
          "metadata": {},
          "execution_count": 10
        }
      ]
    },
    {
      "cell_type": "code",
      "source": [
        "Tensor = torch.tensor([[[2,4,5],[4,9,6],[8,5,2]]])"
      ],
      "metadata": {
        "id": "7_wERLEoMg1D"
      },
      "execution_count": null,
      "outputs": []
    },
    {
      "cell_type": "markdown",
      "source": [
        "**.size .shape .ndim** but **.item** is only apllicable on scalar"
      ],
      "metadata": {
        "id": "r2uOSILgM0fC"
      }
    },
    {
      "cell_type": "code",
      "source": [
        "Tensor.ndim"
      ],
      "metadata": {
        "colab": {
          "base_uri": "https://localhost:8080/"
        },
        "id": "3Q55JlusMzrk",
        "outputId": "c4ccc8d1-9e2a-4125-be9b-0c02c5f3bba1"
      },
      "execution_count": null,
      "outputs": [
        {
          "output_type": "execute_result",
          "data": {
            "text/plain": [
              "3"
            ]
          },
          "metadata": {},
          "execution_count": 12
        }
      ]
    },
    {
      "cell_type": "code",
      "source": [
        "Tensor.shape"
      ],
      "metadata": {
        "colab": {
          "base_uri": "https://localhost:8080/"
        },
        "id": "ivdh5u8pNfB5",
        "outputId": "1563bf46-82d7-4dcd-f90f-82658a6412df"
      },
      "execution_count": null,
      "outputs": [
        {
          "output_type": "execute_result",
          "data": {
            "text/plain": [
              "torch.Size([1, 3, 3])"
            ]
          },
          "metadata": {},
          "execution_count": 13
        }
      ]
    },
    {
      "cell_type": "markdown",
      "source": [
        "### Random Tensor\n",
        "Why random tensors?\n",
        "\n",
        "`Networks typicaly start with random numbers`"
      ],
      "metadata": {
        "id": "j3cmRXLBNg7V"
      }
    },
    {
      "cell_type": "code",
      "source": [
        "random_tensor = torch.rand(3,4)\n",
        "random_tensor"
      ],
      "metadata": {
        "colab": {
          "base_uri": "https://localhost:8080/"
        },
        "id": "eYQEmfl8OjMU",
        "outputId": "ea054fb1-cee9-45c1-c380-799b42db0d8a"
      },
      "execution_count": null,
      "outputs": [
        {
          "output_type": "execute_result",
          "data": {
            "text/plain": [
              "tensor([[0.9853, 0.5518, 0.2851, 0.2703],\n",
              "        [0.9967, 0.0515, 0.1506, 0.8907],\n",
              "        [0.8885, 0.8394, 0.9241, 0.2023]])"
            ]
          },
          "metadata": {},
          "execution_count": 14
        }
      ]
    },
    {
      "cell_type": "code",
      "source": [
        "random_tensor.ndim"
      ],
      "metadata": {
        "colab": {
          "base_uri": "https://localhost:8080/"
        },
        "id": "o1vJN43EPOmH",
        "outputId": "3860b422-2992-422d-eaec-8b85f7f41280"
      },
      "execution_count": null,
      "outputs": [
        {
          "output_type": "execute_result",
          "data": {
            "text/plain": [
              "2"
            ]
          },
          "metadata": {},
          "execution_count": 15
        }
      ]
    },
    {
      "cell_type": "code",
      "source": [
        "rand_img_tensor = torch.rand(size=(3,224,224))"
      ],
      "metadata": {
        "id": "GOOOzuwSPOj3"
      },
      "execution_count": null,
      "outputs": []
    },
    {
      "cell_type": "code",
      "source": [
        "rand_img_tensor"
      ],
      "metadata": {
        "colab": {
          "base_uri": "https://localhost:8080/"
        },
        "id": "obYN0e2HPOhc",
        "outputId": "c8eae046-f562-4502-9eab-c707f6e79e71"
      },
      "execution_count": null,
      "outputs": [
        {
          "output_type": "execute_result",
          "data": {
            "text/plain": [
              "tensor([[[0.0399, 0.7564, 0.5675,  ..., 0.2124, 0.1741, 0.7018],\n",
              "         [0.9652, 0.7592, 0.0181,  ..., 0.0799, 0.5636, 0.4717],\n",
              "         [0.0568, 0.0036, 0.8697,  ..., 0.0731, 0.8701, 0.0312],\n",
              "         ...,\n",
              "         [0.5398, 0.4667, 0.8213,  ..., 0.9600, 0.1229, 0.0709],\n",
              "         [0.3514, 0.1536, 0.3899,  ..., 0.4814, 0.4631, 0.3654],\n",
              "         [0.2692, 0.0709, 0.0490,  ..., 0.5650, 0.0392, 0.5347]],\n",
              "\n",
              "        [[0.2491, 0.2184, 0.3644,  ..., 0.4886, 0.6168, 0.0608],\n",
              "         [0.6774, 0.2352, 0.6268,  ..., 0.8725, 0.6683, 0.9347],\n",
              "         [0.1754, 0.9543, 0.6169,  ..., 0.5414, 0.9047, 0.7738],\n",
              "         ...,\n",
              "         [0.1684, 0.9319, 0.8280,  ..., 0.7411, 0.0545, 0.9959],\n",
              "         [0.0802, 0.3124, 0.7700,  ..., 0.9837, 0.6971, 0.5867],\n",
              "         [0.7249, 0.6567, 0.3212,  ..., 0.6790, 0.2179, 0.6056]],\n",
              "\n",
              "        [[0.0152, 0.5913, 0.4462,  ..., 0.1254, 0.0368, 0.5260],\n",
              "         [0.1557, 0.3312, 0.6894,  ..., 0.6812, 0.9051, 0.8746],\n",
              "         [0.6342, 0.0353, 0.5798,  ..., 0.1244, 0.5327, 0.3438],\n",
              "         ...,\n",
              "         [0.9339, 0.4553, 0.3947,  ..., 0.8169, 0.2728, 0.4119],\n",
              "         [0.5414, 0.3322, 0.7278,  ..., 0.9058, 0.7010, 0.3704],\n",
              "         [0.7481, 0.6830, 0.9971,  ..., 0.4035, 0.7442, 0.9425]]])"
            ]
          },
          "metadata": {},
          "execution_count": 17
        }
      ]
    },
    {
      "cell_type": "code",
      "source": [
        "zeros= torch.zeros(3,4)\n",
        "zeros"
      ],
      "metadata": {
        "colab": {
          "base_uri": "https://localhost:8080/"
        },
        "id": "PKyPAHINPOfF",
        "outputId": "3263bae0-8ec8-483b-f522-d2d6f192c090"
      },
      "execution_count": null,
      "outputs": [
        {
          "output_type": "execute_result",
          "data": {
            "text/plain": [
              "tensor([[0., 0., 0., 0.],\n",
              "        [0., 0., 0., 0.],\n",
              "        [0., 0., 0., 0.]])"
            ]
          },
          "metadata": {},
          "execution_count": 18
        }
      ]
    },
    {
      "cell_type": "code",
      "source": [
        "random_tensor*zeros"
      ],
      "metadata": {
        "colab": {
          "base_uri": "https://localhost:8080/"
        },
        "id": "yEnE_R2ZPOca",
        "outputId": "ab3a6679-ac87-4340-e0fa-e463236c9a6d"
      },
      "execution_count": null,
      "outputs": [
        {
          "output_type": "execute_result",
          "data": {
            "text/plain": [
              "tensor([[0., 0., 0., 0.],\n",
              "        [0., 0., 0., 0.],\n",
              "        [0., 0., 0., 0.]])"
            ]
          },
          "metadata": {},
          "execution_count": 19
        }
      ]
    },
    {
      "cell_type": "code",
      "source": [
        "ones = torch.ones(3,4)\n",
        "ones"
      ],
      "metadata": {
        "colab": {
          "base_uri": "https://localhost:8080/"
        },
        "id": "N9SWQJbtPOZm",
        "outputId": "56d46e45-2c12-4890-bf2f-ad4c1f2f8d8f"
      },
      "execution_count": null,
      "outputs": [
        {
          "output_type": "execute_result",
          "data": {
            "text/plain": [
              "tensor([[1., 1., 1., 1.],\n",
              "        [1., 1., 1., 1.],\n",
              "        [1., 1., 1., 1.]])"
            ]
          },
          "metadata": {},
          "execution_count": 20
        }
      ]
    },
    {
      "cell_type": "code",
      "source": [
        "ones.dtype"
      ],
      "metadata": {
        "colab": {
          "base_uri": "https://localhost:8080/"
        },
        "id": "WAWsthEwRcRo",
        "outputId": "89decf38-cae5-4be9-ea01-086cd3cf075a"
      },
      "execution_count": null,
      "outputs": [
        {
          "output_type": "execute_result",
          "data": {
            "text/plain": [
              "torch.float32"
            ]
          },
          "metadata": {},
          "execution_count": 23
        }
      ]
    },
    {
      "cell_type": "markdown",
      "source": [
        "### Creating a range of tensors and tensors-like"
      ],
      "metadata": {
        "id": "FAFAH66QRcOn"
      }
    },
    {
      "cell_type": "code",
      "source": [
        "torch.arange(0,10)"
      ],
      "metadata": {
        "colab": {
          "base_uri": "https://localhost:8080/"
        },
        "id": "3sOfxbMXRcKS",
        "outputId": "79c3c41b-34ad-418b-8d9d-9df71c8f6047"
      },
      "execution_count": null,
      "outputs": [
        {
          "output_type": "execute_result",
          "data": {
            "text/plain": [
              "tensor([0, 1, 2, 3, 4, 5, 6, 7, 8, 9])"
            ]
          },
          "metadata": {},
          "execution_count": 24
        }
      ]
    },
    {
      "cell_type": "code",
      "source": [
        "torch.zeros_like(random_tensor)"
      ],
      "metadata": {
        "colab": {
          "base_uri": "https://localhost:8080/"
        },
        "id": "Wyi9MGzlRcFv",
        "outputId": "b7fcbd6a-d669-4845-cdf1-bc234cecbd0a"
      },
      "execution_count": null,
      "outputs": [
        {
          "output_type": "execute_result",
          "data": {
            "text/plain": [
              "tensor([[0., 0., 0., 0.],\n",
              "        [0., 0., 0., 0.],\n",
              "        [0., 0., 0., 0.]])"
            ]
          },
          "metadata": {},
          "execution_count": 25
        }
      ]
    },
    {
      "cell_type": "markdown",
      "source": [
        "### Data Types in Tensors"
      ],
      "metadata": {
        "id": "DsTfovLjUDj5"
      }
    },
    {
      "cell_type": "code",
      "source": [
        "temp_tensor = torch.tensor([3.0,6.0,9.0],\n",
        "                           dtype= torch.bfloat16,\n",
        "                           device= 'cpu',\n",
        "                           requires_grad= False) #track gradients"
      ],
      "metadata": {
        "id": "fWsPVJW2RcAH"
      },
      "execution_count": null,
      "outputs": []
    },
    {
      "cell_type": "code",
      "source": [
        "temp_tensor.dtype"
      ],
      "metadata": {
        "colab": {
          "base_uri": "https://localhost:8080/"
        },
        "id": "0umY_u34Rb3x",
        "outputId": "1d561726-956e-4509-da64-48680247b404"
      },
      "execution_count": null,
      "outputs": [
        {
          "output_type": "execute_result",
          "data": {
            "text/plain": [
              "torch.bfloat16"
            ]
          },
          "metadata": {},
          "execution_count": 27
        }
      ]
    },
    {
      "cell_type": "code",
      "source": [
        "tensor32 = temp_tensor.type(torch.float32) # explicit type casting"
      ],
      "metadata": {
        "id": "uuJc2RVaWA5X"
      },
      "execution_count": null,
      "outputs": []
    },
    {
      "cell_type": "code",
      "source": [
        "result1 = temp_tensor*tensor32\n",
        "result2 = temp_tensor+tensor32\n",
        "result3 = temp_tensor-tensor32\n",
        "result4 = temp_tensor/tensor32\n",
        "print(result1,result2,result3,result4)"
      ],
      "metadata": {
        "colab": {
          "base_uri": "https://localhost:8080/"
        },
        "id": "UbMEQiHEWXgM",
        "outputId": "6e2a4543-6e34-4c9f-c7c8-86228037b00c"
      },
      "execution_count": null,
      "outputs": [
        {
          "output_type": "stream",
          "name": "stdout",
          "text": [
            "tensor([ 9., 36., 81.]) tensor([ 6., 12., 18.]) tensor([0., 0., 0.]) tensor([1., 1., 1.])\n"
          ]
        }
      ]
    },
    {
      "cell_type": "code",
      "source": [
        "result1.dtype"
      ],
      "metadata": {
        "colab": {
          "base_uri": "https://localhost:8080/"
        },
        "id": "lDayNN8WW7JW",
        "outputId": "cf6df2f1-9a67-484f-8828-d7a9293dbab3"
      },
      "execution_count": null,
      "outputs": [
        {
          "output_type": "execute_result",
          "data": {
            "text/plain": [
              "torch.float32"
            ]
          },
          "metadata": {},
          "execution_count": 32
        }
      ]
    },
    {
      "cell_type": "code",
      "source": [
        "torch.matmul(temp_tensor.type(torch.float32), tensor32) # keep in mind the dimenstions of input e.g. Use Transpose when necessary."
      ],
      "metadata": {
        "colab": {
          "base_uri": "https://localhost:8080/"
        },
        "id": "yDgSmY1lCb3u",
        "outputId": "2ef12d1b-846d-4b90-eae9-d4a935140ec5"
      },
      "execution_count": null,
      "outputs": [
        {
          "output_type": "execute_result",
          "data": {
            "text/plain": [
              "tensor(126.)"
            ]
          },
          "metadata": {},
          "execution_count": 36
        }
      ]
    },
    {
      "cell_type": "code",
      "source": [],
      "metadata": {
        "id": "Q0n3gTlPHgj-"
      },
      "execution_count": null,
      "outputs": []
    },
    {
      "cell_type": "code",
      "source": [],
      "metadata": {
        "id": "c23BEF_9Hgg3"
      },
      "execution_count": null,
      "outputs": []
    },
    {
      "cell_type": "code",
      "source": [],
      "metadata": {
        "id": "ZcKDRlgcHgeS"
      },
      "execution_count": null,
      "outputs": []
    },
    {
      "cell_type": "code",
      "source": [],
      "metadata": {
        "id": "dzfysVb_HgbY"
      },
      "execution_count": null,
      "outputs": []
    },
    {
      "cell_type": "code",
      "source": [],
      "metadata": {
        "id": "WQhXbXl-HgY1"
      },
      "execution_count": null,
      "outputs": []
    },
    {
      "cell_type": "code",
      "source": [],
      "metadata": {
        "id": "azp5V41aHgWF"
      },
      "execution_count": null,
      "outputs": []
    },
    {
      "cell_type": "code",
      "source": [],
      "metadata": {
        "id": "bMkCJ4ecHgTd"
      },
      "execution_count": null,
      "outputs": []
    },
    {
      "cell_type": "code",
      "source": [],
      "metadata": {
        "id": "9e0Lt_i4HgQp"
      },
      "execution_count": null,
      "outputs": []
    },
    {
      "cell_type": "code",
      "source": [],
      "metadata": {
        "id": "u5_X3IpaDi_I"
      },
      "execution_count": null,
      "outputs": []
    }
  ]
}