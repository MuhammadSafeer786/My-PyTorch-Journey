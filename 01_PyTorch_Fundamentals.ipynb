{
  "nbformat": 4,
  "nbformat_minor": 0,
  "metadata": {
    "colab": {
      "provenance": [],
      "authorship_tag": "ABX9TyOBSyEAs2JRtW0sQuEm0O95",
      "include_colab_link": true
    },
    "kernelspec": {
      "name": "python3",
      "display_name": "Python 3"
    },
    "language_info": {
      "name": "python"
    }
  },
  "cells": [
    {
      "cell_type": "markdown",
      "metadata": {
        "id": "view-in-github",
        "colab_type": "text"
      },
      "source": [
        "<a href=\"https://colab.research.google.com/github/MuhammadSafeer786/My-PyTorch-Journey/blob/main/01_PyTorch_Fundamentals.ipynb\" target=\"_parent\"><img src=\"https://colab.research.google.com/assets/colab-badge.svg\" alt=\"Open In Colab\"/></a>"
      ]
    },
    {
      "cell_type": "markdown",
      "source": [
        "Recources :\n",
        "\n",
        "1- Github https://github.com/mrdbourke/pytorch-deep-learning\n",
        "\n",
        "2- Book https://learnpytorch.io\n",
        "\n",
        "3- Pytorch https://pytorch.org\n",
        "\n",
        "4- Pytorch Forum"
      ],
      "metadata": {
        "id": "hl-tK0rdb0uW"
      }
    },
    {
      "cell_type": "code",
      "execution_count": 2,
      "metadata": {
        "colab": {
          "base_uri": "https://localhost:8080/"
        },
        "id": "N8pMm7WFEmSj",
        "outputId": "a5f8f3e5-9343-43ad-b641-e4b769ab8d01"
      },
      "outputs": [
        {
          "output_type": "stream",
          "name": "stdout",
          "text": [
            "2.5.1+cu121\n"
          ]
        }
      ],
      "source": [
        "import torch\n",
        "import pandas as pd\n",
        "import numpy as np\n",
        "import matplotlib.pyplot as plt\n",
        "print(torch.__version__)"
      ]
    },
    {
      "cell_type": "markdown",
      "source": [
        "## Introduction to Tensors\n",
        "\n",
        "### Creating Tensors"
      ],
      "metadata": {
        "id": "AWOFCLi-GblT"
      }
    },
    {
      "cell_type": "code",
      "source": [
        "#scalar\n",
        "scalar = torch.tensor(7)\n",
        "scalar"
      ],
      "metadata": {
        "colab": {
          "base_uri": "https://localhost:8080/"
        },
        "id": "CyxyeePQGCkD",
        "outputId": "2728ca04-e635-437b-b23f-47e53a076496"
      },
      "execution_count": 3,
      "outputs": [
        {
          "output_type": "execute_result",
          "data": {
            "text/plain": [
              "tensor(7)"
            ]
          },
          "metadata": {},
          "execution_count": 3
        }
      ]
    },
    {
      "cell_type": "code",
      "source": [
        "scalar.ndim"
      ],
      "metadata": {
        "colab": {
          "base_uri": "https://localhost:8080/"
        },
        "id": "_iDUX2DtJTxm",
        "outputId": "e67b1a35-70f5-4960-b532-5f921e821bae"
      },
      "execution_count": 4,
      "outputs": [
        {
          "output_type": "execute_result",
          "data": {
            "text/plain": [
              "0"
            ]
          },
          "metadata": {},
          "execution_count": 4
        }
      ]
    },
    {
      "cell_type": "code",
      "source": [
        "scalar.item()"
      ],
      "metadata": {
        "colab": {
          "base_uri": "https://localhost:8080/"
        },
        "id": "osdVCOfmJ5ol",
        "outputId": "d9f10aa8-cca9-4ef3-b617-8f6982f65ae0"
      },
      "execution_count": 5,
      "outputs": [
        {
          "output_type": "execute_result",
          "data": {
            "text/plain": [
              "7"
            ]
          },
          "metadata": {},
          "execution_count": 5
        }
      ]
    },
    {
      "cell_type": "code",
      "source": [
        "#vector\n",
        "vector = torch.tensor([7,7])\n",
        "vector"
      ],
      "metadata": {
        "colab": {
          "base_uri": "https://localhost:8080/"
        },
        "id": "bGp8ZnHpKEwT",
        "outputId": "83862982-7f24-4c44-aa29-9c8c684e9cf7"
      },
      "execution_count": 6,
      "outputs": [
        {
          "output_type": "execute_result",
          "data": {
            "text/plain": [
              "tensor([7, 7])"
            ]
          },
          "metadata": {},
          "execution_count": 6
        }
      ]
    },
    {
      "cell_type": "code",
      "source": [
        "vector.ndim"
      ],
      "metadata": {
        "colab": {
          "base_uri": "https://localhost:8080/"
        },
        "id": "7hrlRAMtLCFe",
        "outputId": "b0b4f930-980c-4f7b-dbff-ec0cee278c3f"
      },
      "execution_count": 7,
      "outputs": [
        {
          "output_type": "execute_result",
          "data": {
            "text/plain": [
              "1"
            ]
          },
          "metadata": {},
          "execution_count": 7
        }
      ]
    },
    {
      "cell_type": "code",
      "source": [
        "vector.shape"
      ],
      "metadata": {
        "colab": {
          "base_uri": "https://localhost:8080/"
        },
        "id": "OekhcFk8LCDD",
        "outputId": "672ff92d-5f96-4d9e-dcd2-aff7ba71ab35"
      },
      "execution_count": 8,
      "outputs": [
        {
          "output_type": "execute_result",
          "data": {
            "text/plain": [
              "torch.Size([2])"
            ]
          },
          "metadata": {},
          "execution_count": 8
        }
      ]
    },
    {
      "cell_type": "code",
      "source": [
        "vector[0]"
      ],
      "metadata": {
        "colab": {
          "base_uri": "https://localhost:8080/"
        },
        "id": "4rd-N98QMXHL",
        "outputId": "fc3a2b63-0edb-46fa-a3bc-e1a3d13416bc"
      },
      "execution_count": 9,
      "outputs": [
        {
          "output_type": "execute_result",
          "data": {
            "text/plain": [
              "tensor(7)"
            ]
          },
          "metadata": {},
          "execution_count": 9
        }
      ]
    },
    {
      "cell_type": "code",
      "source": [
        "Matrix = torch.tensor([[7,8],[9,7]])\n",
        "Matrix"
      ],
      "metadata": {
        "colab": {
          "base_uri": "https://localhost:8080/"
        },
        "id": "WVufiJWCLCAQ",
        "outputId": "47744486-01f1-4a2d-917b-a8e843ee4a3c"
      },
      "execution_count": 10,
      "outputs": [
        {
          "output_type": "execute_result",
          "data": {
            "text/plain": [
              "tensor([[7, 8],\n",
              "        [9, 7]])"
            ]
          },
          "metadata": {},
          "execution_count": 10
        }
      ]
    },
    {
      "cell_type": "code",
      "source": [
        "Matrix[1]"
      ],
      "metadata": {
        "colab": {
          "base_uri": "https://localhost:8080/"
        },
        "id": "TRRjrgn7LBeH",
        "outputId": "ceb8e61f-5c5b-4023-8234-d865c8da1b7c"
      },
      "execution_count": 11,
      "outputs": [
        {
          "output_type": "execute_result",
          "data": {
            "text/plain": [
              "tensor([9, 7])"
            ]
          },
          "metadata": {},
          "execution_count": 11
        }
      ]
    },
    {
      "cell_type": "code",
      "source": [
        "Tensor = torch.tensor([[[2,4,5],[4,9,6],[8,5,2]]])"
      ],
      "metadata": {
        "id": "7_wERLEoMg1D"
      },
      "execution_count": 12,
      "outputs": []
    },
    {
      "cell_type": "markdown",
      "source": [
        "**.size .shape .ndim** but **.item** is only apllicable on scalar"
      ],
      "metadata": {
        "id": "r2uOSILgM0fC"
      }
    },
    {
      "cell_type": "code",
      "source": [
        "Tensor.ndim"
      ],
      "metadata": {
        "colab": {
          "base_uri": "https://localhost:8080/"
        },
        "id": "3Q55JlusMzrk",
        "outputId": "42fa531c-111f-439e-da27-ca1746fa76b9"
      },
      "execution_count": 13,
      "outputs": [
        {
          "output_type": "execute_result",
          "data": {
            "text/plain": [
              "3"
            ]
          },
          "metadata": {},
          "execution_count": 13
        }
      ]
    },
    {
      "cell_type": "code",
      "source": [
        "Tensor.shape"
      ],
      "metadata": {
        "colab": {
          "base_uri": "https://localhost:8080/"
        },
        "id": "ivdh5u8pNfB5",
        "outputId": "a972ce37-7f7a-4a75-e04f-eafb2d38ec5f"
      },
      "execution_count": 14,
      "outputs": [
        {
          "output_type": "execute_result",
          "data": {
            "text/plain": [
              "torch.Size([1, 3, 3])"
            ]
          },
          "metadata": {},
          "execution_count": 14
        }
      ]
    },
    {
      "cell_type": "markdown",
      "source": [
        "### Random Tensor\n",
        "Why random tensors?\n",
        "\n",
        "`Networks typicaly start with random numbers`"
      ],
      "metadata": {
        "id": "j3cmRXLBNg7V"
      }
    },
    {
      "cell_type": "code",
      "source": [
        "random_tensor = torch.rand(3,4)\n",
        "random_tensor"
      ],
      "metadata": {
        "colab": {
          "base_uri": "https://localhost:8080/"
        },
        "id": "eYQEmfl8OjMU",
        "outputId": "a43f4850-fd6a-42ff-f048-7ea73056e544"
      },
      "execution_count": 15,
      "outputs": [
        {
          "output_type": "execute_result",
          "data": {
            "text/plain": [
              "tensor([[0.1101, 0.1773, 0.1838, 0.7896],\n",
              "        [0.1232, 0.5202, 0.9041, 0.7492],\n",
              "        [0.0347, 0.2311, 0.9075, 0.3127]])"
            ]
          },
          "metadata": {},
          "execution_count": 15
        }
      ]
    },
    {
      "cell_type": "code",
      "source": [
        "random_tensor.ndim"
      ],
      "metadata": {
        "colab": {
          "base_uri": "https://localhost:8080/"
        },
        "id": "o1vJN43EPOmH",
        "outputId": "fa4b2e89-0928-47c3-c247-09625ad4b8a2"
      },
      "execution_count": 16,
      "outputs": [
        {
          "output_type": "execute_result",
          "data": {
            "text/plain": [
              "2"
            ]
          },
          "metadata": {},
          "execution_count": 16
        }
      ]
    },
    {
      "cell_type": "code",
      "source": [
        "rand_img_tensor = torch.rand(size=(3,224,224))"
      ],
      "metadata": {
        "id": "GOOOzuwSPOj3"
      },
      "execution_count": 17,
      "outputs": []
    },
    {
      "cell_type": "code",
      "source": [
        "rand_img_tensor"
      ],
      "metadata": {
        "colab": {
          "base_uri": "https://localhost:8080/"
        },
        "id": "obYN0e2HPOhc",
        "outputId": "dd5a8e08-b62a-462f-9e13-8171860d8036"
      },
      "execution_count": 18,
      "outputs": [
        {
          "output_type": "execute_result",
          "data": {
            "text/plain": [
              "tensor([[[0.9684, 0.3501, 0.6092,  ..., 0.3384, 0.3309, 0.6764],\n",
              "         [0.7190, 0.3445, 0.3718,  ..., 0.6720, 0.2168, 0.6217],\n",
              "         [0.3436, 0.3250, 0.9133,  ..., 0.8235, 0.7414, 0.3870],\n",
              "         ...,\n",
              "         [0.7436, 0.6702, 0.9351,  ..., 0.6395, 0.0437, 0.0563],\n",
              "         [0.1590, 0.0647, 0.5421,  ..., 0.5960, 0.9424, 0.7870],\n",
              "         [0.7099, 0.3570, 0.9586,  ..., 0.1476, 0.8113, 0.1031]],\n",
              "\n",
              "        [[0.2040, 0.3171, 0.5274,  ..., 0.2698, 0.1328, 0.4596],\n",
              "         [0.1847, 0.8716, 0.1719,  ..., 0.6645, 0.4968, 0.4076],\n",
              "         [0.5140, 0.8372, 0.1952,  ..., 0.3541, 0.7887, 0.4561],\n",
              "         ...,\n",
              "         [0.9258, 0.2500, 0.3930,  ..., 0.9909, 0.5420, 0.9464],\n",
              "         [0.3005, 0.8941, 0.6267,  ..., 0.4244, 0.8088, 0.9812],\n",
              "         [0.2547, 0.8663, 0.3085,  ..., 0.6550, 0.5648, 0.4048]],\n",
              "\n",
              "        [[0.5081, 0.4087, 0.9988,  ..., 0.5444, 0.1797, 0.9981],\n",
              "         [0.1795, 0.6414, 0.5574,  ..., 0.2074, 0.6956, 0.7745],\n",
              "         [0.0034, 0.5362, 0.1302,  ..., 0.1162, 0.2998, 0.5572],\n",
              "         ...,\n",
              "         [0.8075, 0.2418, 0.2448,  ..., 0.8540, 0.3262, 0.8680],\n",
              "         [0.3240, 0.1275, 0.6725,  ..., 0.8321, 0.1051, 0.1244],\n",
              "         [0.5043, 0.5340, 0.2938,  ..., 0.1630, 0.7052, 0.2276]]])"
            ]
          },
          "metadata": {},
          "execution_count": 18
        }
      ]
    },
    {
      "cell_type": "code",
      "source": [
        "zeros= torch.zeros(3,4)\n",
        "zeros"
      ],
      "metadata": {
        "colab": {
          "base_uri": "https://localhost:8080/"
        },
        "id": "PKyPAHINPOfF",
        "outputId": "6a7388d1-9b66-4816-cf2b-72e25a0d33fc"
      },
      "execution_count": 19,
      "outputs": [
        {
          "output_type": "execute_result",
          "data": {
            "text/plain": [
              "tensor([[0., 0., 0., 0.],\n",
              "        [0., 0., 0., 0.],\n",
              "        [0., 0., 0., 0.]])"
            ]
          },
          "metadata": {},
          "execution_count": 19
        }
      ]
    },
    {
      "cell_type": "code",
      "source": [
        "random_tensor*zeros"
      ],
      "metadata": {
        "colab": {
          "base_uri": "https://localhost:8080/"
        },
        "id": "yEnE_R2ZPOca",
        "outputId": "c475b66e-2d20-48e1-c990-0ee58ffe7e39"
      },
      "execution_count": 20,
      "outputs": [
        {
          "output_type": "execute_result",
          "data": {
            "text/plain": [
              "tensor([[0., 0., 0., 0.],\n",
              "        [0., 0., 0., 0.],\n",
              "        [0., 0., 0., 0.]])"
            ]
          },
          "metadata": {},
          "execution_count": 20
        }
      ]
    },
    {
      "cell_type": "code",
      "source": [
        "ones = torch.ones(3,4)\n",
        "ones"
      ],
      "metadata": {
        "colab": {
          "base_uri": "https://localhost:8080/"
        },
        "id": "N9SWQJbtPOZm",
        "outputId": "84c2af27-e65f-43b8-e3e4-76c475448ab8"
      },
      "execution_count": 21,
      "outputs": [
        {
          "output_type": "execute_result",
          "data": {
            "text/plain": [
              "tensor([[1., 1., 1., 1.],\n",
              "        [1., 1., 1., 1.],\n",
              "        [1., 1., 1., 1.]])"
            ]
          },
          "metadata": {},
          "execution_count": 21
        }
      ]
    },
    {
      "cell_type": "code",
      "source": [
        "ones.dtype"
      ],
      "metadata": {
        "colab": {
          "base_uri": "https://localhost:8080/"
        },
        "id": "WAWsthEwRcRo",
        "outputId": "ff642b1f-4888-4572-8f22-3e12416df445"
      },
      "execution_count": 22,
      "outputs": [
        {
          "output_type": "execute_result",
          "data": {
            "text/plain": [
              "torch.float32"
            ]
          },
          "metadata": {},
          "execution_count": 22
        }
      ]
    },
    {
      "cell_type": "markdown",
      "source": [
        "### Creating a range of tensors and tensors-like"
      ],
      "metadata": {
        "id": "FAFAH66QRcOn"
      }
    },
    {
      "cell_type": "code",
      "source": [
        "torch.arange(0,10)"
      ],
      "metadata": {
        "colab": {
          "base_uri": "https://localhost:8080/"
        },
        "id": "3sOfxbMXRcKS",
        "outputId": "0d8d8b62-75d7-4e30-c16a-1cea5b8ef488"
      },
      "execution_count": 23,
      "outputs": [
        {
          "output_type": "execute_result",
          "data": {
            "text/plain": [
              "tensor([0, 1, 2, 3, 4, 5, 6, 7, 8, 9])"
            ]
          },
          "metadata": {},
          "execution_count": 23
        }
      ]
    },
    {
      "cell_type": "code",
      "source": [
        "torch.zeros_like(random_tensor)"
      ],
      "metadata": {
        "colab": {
          "base_uri": "https://localhost:8080/"
        },
        "id": "Wyi9MGzlRcFv",
        "outputId": "73bae5f6-dfef-4851-b989-dceb25345c79"
      },
      "execution_count": 24,
      "outputs": [
        {
          "output_type": "execute_result",
          "data": {
            "text/plain": [
              "tensor([[0., 0., 0., 0.],\n",
              "        [0., 0., 0., 0.],\n",
              "        [0., 0., 0., 0.]])"
            ]
          },
          "metadata": {},
          "execution_count": 24
        }
      ]
    },
    {
      "cell_type": "markdown",
      "source": [
        "### Data Types in Tensors"
      ],
      "metadata": {
        "id": "DsTfovLjUDj5"
      }
    },
    {
      "cell_type": "code",
      "source": [
        "temp_tensor = torch.tensor([3.0,6.0,9.0],\n",
        "                           dtype= torch.bfloat16,\n",
        "                           device= 'cpu',\n",
        "                           requires_grad= False) #track gradients"
      ],
      "metadata": {
        "id": "fWsPVJW2RcAH"
      },
      "execution_count": 25,
      "outputs": []
    },
    {
      "cell_type": "code",
      "source": [
        "temp_tensor.dtype"
      ],
      "metadata": {
        "colab": {
          "base_uri": "https://localhost:8080/"
        },
        "id": "0umY_u34Rb3x",
        "outputId": "7bb07f3c-57d7-44c2-e1e3-d8b1838a0272"
      },
      "execution_count": 26,
      "outputs": [
        {
          "output_type": "execute_result",
          "data": {
            "text/plain": [
              "torch.bfloat16"
            ]
          },
          "metadata": {},
          "execution_count": 26
        }
      ]
    },
    {
      "cell_type": "code",
      "source": [
        "tensor32 = temp_tensor.type(torch.float32) # explicit type casting"
      ],
      "metadata": {
        "id": "uuJc2RVaWA5X"
      },
      "execution_count": 27,
      "outputs": []
    },
    {
      "cell_type": "code",
      "source": [
        "result1 = temp_tensor*tensor32\n",
        "result2 = temp_tensor+tensor32\n",
        "result3 = temp_tensor-tensor32\n",
        "result4 = temp_tensor/tensor32\n",
        "print(result1,result2,result3,result4)"
      ],
      "metadata": {
        "colab": {
          "base_uri": "https://localhost:8080/"
        },
        "id": "UbMEQiHEWXgM",
        "outputId": "f4af0064-1cbc-4cf8-f8d2-c5ba520cb76c"
      },
      "execution_count": 28,
      "outputs": [
        {
          "output_type": "stream",
          "name": "stdout",
          "text": [
            "tensor([ 9., 36., 81.]) tensor([ 6., 12., 18.]) tensor([0., 0., 0.]) tensor([1., 1., 1.])\n"
          ]
        }
      ]
    },
    {
      "cell_type": "code",
      "source": [
        "result1.dtype"
      ],
      "metadata": {
        "colab": {
          "base_uri": "https://localhost:8080/"
        },
        "id": "lDayNN8WW7JW",
        "outputId": "6a461ecf-d47e-4f96-b1ad-ee2ef37d7190"
      },
      "execution_count": 29,
      "outputs": [
        {
          "output_type": "execute_result",
          "data": {
            "text/plain": [
              "torch.float32"
            ]
          },
          "metadata": {},
          "execution_count": 29
        }
      ]
    },
    {
      "cell_type": "code",
      "source": [
        "torch.matmul(temp_tensor.type(torch.float32), tensor32) # keep in mind the dimenstions of input e.g. Use Transpose when necessary."
      ],
      "metadata": {
        "colab": {
          "base_uri": "https://localhost:8080/"
        },
        "id": "yDgSmY1lCb3u",
        "outputId": "35c17501-cfd7-42d8-f6a6-27934f5736a2"
      },
      "execution_count": 30,
      "outputs": [
        {
          "output_type": "execute_result",
          "data": {
            "text/plain": [
              "tensor(126.)"
            ]
          },
          "metadata": {},
          "execution_count": 30
        }
      ]
    },
    {
      "cell_type": "code",
      "source": [
        "tensor = torch.tensor([1, 2, 3, 4, 5])\n",
        "tensor_min = torch.min(tensor)\n",
        "tensor_max = torch.max(tensor)\n",
        "tensor_mean = torch.mean(tensor.float())  # Mean requires float input\n",
        "tensor_sum = torch.sum(tensor)\n",
        "print(f\"Mean value: {tensor_mean}\")\n",
        "print(f\"Min value: {tensor_min}\")\n",
        "print(f\"Max value: {tensor_max}\")\n",
        "print(f\"Sum value: {tensor_sum}\")"
      ],
      "metadata": {
        "colab": {
          "base_uri": "https://localhost:8080/"
        },
        "id": "Q0n3gTlPHgj-",
        "outputId": "131ec4c5-c001-4bc8-b28f-75f8dc455efd"
      },
      "execution_count": 31,
      "outputs": [
        {
          "output_type": "stream",
          "name": "stdout",
          "text": [
            "Mean value: 3.0\n",
            "Min value: 1\n",
            "Max value: 5\n",
            "Sum value: 15\n"
          ]
        }
      ]
    },
    {
      "cell_type": "markdown",
      "source": [
        "### Reshaping, Stacking, Squeezing and Unsqueezing Tensors\n",
        "* **Reshaping** reshapes and keeps the total number of elements same\n",
        "* **View** of a tensor is a tensor of certain shape but keeps the same memory as the orignal tensor.\n",
        "* **Stacking** combines tensors\n",
        "* **Squeeze** and **Unsqueeze** removes all `1` dimensions and adds a `1` dimension to the ternsor respectively\n",
        "* **Permute** Return a view of input with dimensions swapped (permuted) in a certain way"
      ],
      "metadata": {
        "id": "Qt0tLtUmJdKp"
      }
    },
    {
      "cell_type": "code",
      "source": [
        "tensor = torch.arange(1.,11.)\n",
        "tensor, tensor.shape"
      ],
      "metadata": {
        "colab": {
          "base_uri": "https://localhost:8080/"
        },
        "id": "DRe88_IJLsOA",
        "outputId": "0a455ee9-8a93-4065-808f-2971765dec6a"
      },
      "execution_count": 32,
      "outputs": [
        {
          "output_type": "execute_result",
          "data": {
            "text/plain": [
              "(tensor([ 1.,  2.,  3.,  4.,  5.,  6.,  7.,  8.,  9., 10.]), torch.Size([10]))"
            ]
          },
          "metadata": {},
          "execution_count": 32
        }
      ]
    },
    {
      "cell_type": "code",
      "source": [
        "# It cannot reshape to dimensions whose multiple is not equal to total number of elements i.e. 2 x 5 = 10\n",
        "reshaped = tensor.reshape(2,5) # try (10,1)\n",
        "reshaped, reshaped.shape"
      ],
      "metadata": {
        "colab": {
          "base_uri": "https://localhost:8080/"
        },
        "id": "c23BEF_9Hgg3",
        "outputId": "c62c8bad-27f7-481c-8a7c-132c7d06e9c8"
      },
      "execution_count": 33,
      "outputs": [
        {
          "output_type": "execute_result",
          "data": {
            "text/plain": [
              "(tensor([[ 1.,  2.,  3.,  4.,  5.],\n",
              "         [ 6.,  7.,  8.,  9., 10.]]),\n",
              " torch.Size([2, 5]))"
            ]
          },
          "metadata": {},
          "execution_count": 33
        }
      ]
    },
    {
      "cell_type": "code",
      "source": [
        "z = tensor.view(10,1)\n",
        "z, z.shape    # z and tensor share same memory, changes will be reflected"
      ],
      "metadata": {
        "colab": {
          "base_uri": "https://localhost:8080/"
        },
        "id": "ZcKDRlgcHgeS",
        "outputId": "219a91f4-21ac-4b0e-f351-02d256666d63"
      },
      "execution_count": 34,
      "outputs": [
        {
          "output_type": "execute_result",
          "data": {
            "text/plain": [
              "(tensor([[ 1.],\n",
              "         [ 2.],\n",
              "         [ 3.],\n",
              "         [ 4.],\n",
              "         [ 5.],\n",
              "         [ 6.],\n",
              "         [ 7.],\n",
              "         [ 8.],\n",
              "         [ 9.],\n",
              "         [10.]]),\n",
              " torch.Size([10, 1]))"
            ]
          },
          "metadata": {},
          "execution_count": 34
        }
      ]
    },
    {
      "cell_type": "code",
      "source": [
        "stacked = torch.stack([tensor,tensor,tensor,tensor],dim=1) # dim = 1 is torch.hstack and dim = 0 is torch.vstack\n",
        "stacked"
      ],
      "metadata": {
        "colab": {
          "base_uri": "https://localhost:8080/"
        },
        "id": "dzfysVb_HgbY",
        "outputId": "ba906c1e-790a-4585-ea88-b14c3b82a787"
      },
      "execution_count": 35,
      "outputs": [
        {
          "output_type": "execute_result",
          "data": {
            "text/plain": [
              "tensor([[ 1.,  1.,  1.,  1.],\n",
              "        [ 2.,  2.,  2.,  2.],\n",
              "        [ 3.,  3.,  3.,  3.],\n",
              "        [ 4.,  4.,  4.,  4.],\n",
              "        [ 5.,  5.,  5.,  5.],\n",
              "        [ 6.,  6.,  6.,  6.],\n",
              "        [ 7.,  7.,  7.,  7.],\n",
              "        [ 8.,  8.,  8.,  8.],\n",
              "        [ 9.,  9.,  9.,  9.],\n",
              "        [10., 10., 10., 10.]])"
            ]
          },
          "metadata": {},
          "execution_count": 35
        }
      ]
    },
    {
      "cell_type": "code",
      "source": [
        "x = torch.zeros(2, 1, 2, 1, 2)\n",
        "x.shape"
      ],
      "metadata": {
        "colab": {
          "base_uri": "https://localhost:8080/"
        },
        "id": "WQhXbXl-HgY1",
        "outputId": "fe858b8c-a33a-4ed7-eed7-c058bdf0ba5d"
      },
      "execution_count": 42,
      "outputs": [
        {
          "output_type": "execute_result",
          "data": {
            "text/plain": [
              "torch.Size([2, 1, 2, 1, 2])"
            ]
          },
          "metadata": {},
          "execution_count": 42
        }
      ]
    },
    {
      "cell_type": "code",
      "source": [
        "y = torch.squeeze(x,dim=3) # removes '1' dimensions in the specified dims i.e. dim=3 would remove 1 in the 3rd dim if the orignal shape has 1 in that place : (3,28,28,1) -> (3,28,28)\n",
        "y.size()"
      ],
      "metadata": {
        "colab": {
          "base_uri": "https://localhost:8080/"
        },
        "id": "azp5V41aHgWF",
        "outputId": "bdea58d6-cf0b-4601-efbf-f490c8d5c731"
      },
      "execution_count": 38,
      "outputs": [
        {
          "output_type": "execute_result",
          "data": {
            "text/plain": [
              "torch.Size([2, 1, 2, 2])"
            ]
          },
          "metadata": {},
          "execution_count": 38
        }
      ]
    },
    {
      "cell_type": "code",
      "source": [
        "y = torch.unsqueeze(x,dim=3) # adds '1' dimensions in the specified dims i.e. dim=3 would add 1 in the 3rd dim if the orignal shape has 1 in that place :\n",
        "y.shape"
      ],
      "metadata": {
        "id": "Gn7wzCo8Wa4A",
        "colab": {
          "base_uri": "https://localhost:8080/"
        },
        "outputId": "1cb7f1c2-44f3-4667-a1db-83c2113177c6"
      },
      "execution_count": 41,
      "outputs": [
        {
          "output_type": "execute_result",
          "data": {
            "text/plain": [
              "torch.Size([2, 1, 2, 1, 1, 2])"
            ]
          },
          "metadata": {},
          "execution_count": 41
        }
      ]
    },
    {
      "cell_type": "code",
      "source": [
        "# mostly used with images\n",
        "img = torch.rand(size=(224,224,3))\n",
        "y = torch.permute(img, (2,0,1)) # returns a **view** of swapped shape i.e. its aurgument is actually we telling it to place which dimension in which place. see the output for better understanding\n",
        "y.shape"
      ],
      "metadata": {
        "id": "bMkCJ4ecHgTd",
        "colab": {
          "base_uri": "https://localhost:8080/"
        },
        "outputId": "df9f9e2d-5bec-47ea-8a87-1b5729546a80"
      },
      "execution_count": 45,
      "outputs": [
        {
          "output_type": "execute_result",
          "data": {
            "text/plain": [
              "torch.Size([3, 224, 224])"
            ]
          },
          "metadata": {},
          "execution_count": 45
        }
      ]
    },
    {
      "cell_type": "markdown",
      "source": [
        "# Indexing Data\n",
        "Important Note if shape is (1,3,3) then biggest index could only be [0][2][2], notice that we cannot index bigger or equal to dimensions"
      ],
      "metadata": {
        "id": "9e0Lt_i4HgQp"
      }
    },
    {
      "cell_type": "code",
      "source": [
        "x = torch.arange(1,10).reshape(1,3,3)\n",
        "x, x.shape"
      ],
      "metadata": {
        "id": "u5_X3IpaDi_I",
        "colab": {
          "base_uri": "https://localhost:8080/"
        },
        "outputId": "a319fd60-85bf-4715-a4c7-d3166c50b89b"
      },
      "execution_count": 46,
      "outputs": [
        {
          "output_type": "execute_result",
          "data": {
            "text/plain": [
              "(tensor([[[1, 2, 3],\n",
              "          [4, 5, 6],\n",
              "          [7, 8, 9]]]),\n",
              " torch.Size([1, 3, 3]))"
            ]
          },
          "metadata": {},
          "execution_count": 46
        }
      ]
    },
    {
      "cell_type": "code",
      "source": [
        "x[0]"
      ],
      "metadata": {
        "colab": {
          "base_uri": "https://localhost:8080/"
        },
        "id": "gd8GliL99s3e",
        "outputId": "17aab1a9-6a7c-4dd8-abc9-69075f391674"
      },
      "execution_count": 47,
      "outputs": [
        {
          "output_type": "execute_result",
          "data": {
            "text/plain": [
              "tensor([[1, 2, 3],\n",
              "        [4, 5, 6],\n",
              "        [7, 8, 9]])"
            ]
          },
          "metadata": {},
          "execution_count": 47
        }
      ]
    },
    {
      "cell_type": "code",
      "source": [
        "x[0][0]"
      ],
      "metadata": {
        "colab": {
          "base_uri": "https://localhost:8080/"
        },
        "id": "RPc1fdk-9u7z",
        "outputId": "c3f52802-ee7d-4b15-cda7-d23ae14cd646"
      },
      "execution_count": 48,
      "outputs": [
        {
          "output_type": "execute_result",
          "data": {
            "text/plain": [
              "tensor([1, 2, 3])"
            ]
          },
          "metadata": {},
          "execution_count": 48
        }
      ]
    },
    {
      "cell_type": "code",
      "source": [
        "x[0,0] # similar to above !"
      ],
      "metadata": {
        "colab": {
          "base_uri": "https://localhost:8080/"
        },
        "id": "zl-kpvVu9w7U",
        "outputId": "b79dc961-4ae3-49b9-d651-62412d4f696f"
      },
      "execution_count": 49,
      "outputs": [
        {
          "output_type": "execute_result",
          "data": {
            "text/plain": [
              "tensor([1, 2, 3])"
            ]
          },
          "metadata": {},
          "execution_count": 49
        }
      ]
    },
    {
      "cell_type": "code",
      "source": [
        "x[0][0][0]"
      ],
      "metadata": {
        "colab": {
          "base_uri": "https://localhost:8080/"
        },
        "id": "i57Ft4Ao-Qce",
        "outputId": "51d92c7f-9a06-4f88-e4f1-efc450ffd0f7"
      },
      "execution_count": 50,
      "outputs": [
        {
          "output_type": "execute_result",
          "data": {
            "text/plain": [
              "tensor(1)"
            ]
          },
          "metadata": {},
          "execution_count": 50
        }
      ]
    },
    {
      "cell_type": "code",
      "source": [
        "x[:,:,1]  # : means all of a target dimension"
      ],
      "metadata": {
        "colab": {
          "base_uri": "https://localhost:8080/"
        },
        "id": "l1pnDDpm-moD",
        "outputId": "893dc335-4615-45d9-cd8e-164a0aa7e566"
      },
      "execution_count": 51,
      "outputs": [
        {
          "output_type": "execute_result",
          "data": {
            "text/plain": [
              "tensor([[2, 5, 8]])"
            ]
          },
          "metadata": {},
          "execution_count": 51
        }
      ]
    },
    {
      "cell_type": "code",
      "source": [
        "x[0,:,1] # notice one less [] bracket in the output"
      ],
      "metadata": {
        "colab": {
          "base_uri": "https://localhost:8080/"
        },
        "id": "V1xg5kE__FdG",
        "outputId": "bcd4b917-581e-4bfc-d242-1146ae1fccc5"
      },
      "execution_count": 52,
      "outputs": [
        {
          "output_type": "execute_result",
          "data": {
            "text/plain": [
              "tensor([2, 5, 8])"
            ]
          },
          "metadata": {},
          "execution_count": 52
        }
      ]
    },
    {
      "cell_type": "markdown",
      "source": [
        "#Numpy & pytorch"
      ],
      "metadata": {
        "id": "EvDBz39lDkwG"
      }
    },
    {
      "cell_type": "code",
      "source": [
        "array = np.arange(1.0,8.0)\n",
        "tensor = torch.from_numpy(array).type(torch.float32) # default of numpy as float64 while default of pytorch's tensor is float32\n",
        "array, tensor"
      ],
      "metadata": {
        "colab": {
          "base_uri": "https://localhost:8080/"
        },
        "id": "pLlJhi9jEd2d",
        "outputId": "2abf5628-3a20-4120-c21b-796616e3b6e2"
      },
      "execution_count": 54,
      "outputs": [
        {
          "output_type": "execute_result",
          "data": {
            "text/plain": [
              "(array([1., 2., 3., 4., 5., 6., 7.]), tensor([1., 2., 3., 4., 5., 6., 7.]))"
            ]
          },
          "metadata": {},
          "execution_count": 54
        }
      ]
    },
    {
      "cell_type": "code",
      "source": [],
      "metadata": {
        "id": "cMNytBStG1OB"
      },
      "execution_count": null,
      "outputs": []
    }
  ]
}