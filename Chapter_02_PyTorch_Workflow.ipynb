{
  "nbformat": 4,
  "nbformat_minor": 0,
  "metadata": {
    "colab": {
      "provenance": [],
      "authorship_tag": "ABX9TyOxr7/HjaJd9EaiPr4zVrTe",
      "include_colab_link": true
    },
    "kernelspec": {
      "name": "python3",
      "display_name": "Python 3"
    },
    "language_info": {
      "name": "python"
    }
  },
  "cells": [
    {
      "cell_type": "markdown",
      "metadata": {
        "id": "view-in-github",
        "colab_type": "text"
      },
      "source": [
        "<a href=\"https://colab.research.google.com/github/MuhammadSafeer786/My-PyTorch-Journey/blob/main/Chapter_02_PyTorch_Workflow.ipynb\" target=\"_parent\"><img src=\"https://colab.research.google.com/assets/colab-badge.svg\" alt=\"Open In Colab\"/></a>"
      ]
    },
    {
      "cell_type": "markdown",
      "source": [
        "# Prepare Data"
      ],
      "metadata": {
        "id": "Af8KDds_QEYO"
      }
    },
    {
      "cell_type": "code",
      "source": [
        "import torch\n",
        "from torch import nn # all building blockes for neural network\n",
        "import matplotlib.pyplot as plt\n",
        "torch.__version__"
      ],
      "metadata": {
        "colab": {
          "base_uri": "https://localhost:8080/",
          "height": 35
        },
        "id": "QNXSBh0FawE3",
        "outputId": "ad1ab5ff-dfae-48b5-d336-8f38263f356e"
      },
      "execution_count": 78,
      "outputs": [
        {
          "output_type": "execute_result",
          "data": {
            "text/plain": [
              "'2.5.1+cu121'"
            ],
            "application/vnd.google.colaboratory.intrinsic+json": {
              "type": "string"
            }
          },
          "metadata": {},
          "execution_count": 78
        }
      ]
    },
    {
      "cell_type": "markdown",
      "source": [
        "Trying to create our own dataset by **Linear Regression** Formula"
      ],
      "metadata": {
        "id": "Rn3cJmn5XmF1"
      }
    },
    {
      "cell_type": "code",
      "source": [
        "# create known parameters\n",
        "weight = 0.7\n",
        "bias = 0.3\n",
        "\n",
        "# create data\n",
        "start = 0\n",
        "end = 1\n",
        "step = 0.02\n",
        "X = torch.arange(start, end, step).unsqueeze(dim=1)\n",
        "y = weight * X + bias\n",
        "\n",
        "X[:10], y[:10], len(X), len(y)"
      ],
      "metadata": {
        "id": "5E3kqmfog7g_",
        "colab": {
          "base_uri": "https://localhost:8080/"
        },
        "outputId": "3ec81830-f3de-41e9-be2c-83334696735d"
      },
      "execution_count": 79,
      "outputs": [
        {
          "output_type": "execute_result",
          "data": {
            "text/plain": [
              "(tensor([[0.0000],\n",
              "         [0.0200],\n",
              "         [0.0400],\n",
              "         [0.0600],\n",
              "         [0.0800],\n",
              "         [0.1000],\n",
              "         [0.1200],\n",
              "         [0.1400],\n",
              "         [0.1600],\n",
              "         [0.1800]]),\n",
              " tensor([[0.3000],\n",
              "         [0.3140],\n",
              "         [0.3280],\n",
              "         [0.3420],\n",
              "         [0.3560],\n",
              "         [0.3700],\n",
              "         [0.3840],\n",
              "         [0.3980],\n",
              "         [0.4120],\n",
              "         [0.4260]]),\n",
              " 50,\n",
              " 50)"
            ]
          },
          "metadata": {},
          "execution_count": 79
        }
      ]
    },
    {
      "cell_type": "code",
      "source": [
        "train_split = int(0.8 * len(X)) # no. of samples for training\n",
        "train_split"
      ],
      "metadata": {
        "colab": {
          "base_uri": "https://localhost:8080/"
        },
        "id": "BlsSB9ilZFBy",
        "outputId": "fe5b4391-bd87-4a95-ec24-db90bef9696f"
      },
      "execution_count": 80,
      "outputs": [
        {
          "output_type": "execute_result",
          "data": {
            "text/plain": [
              "40"
            ]
          },
          "metadata": {},
          "execution_count": 80
        }
      ]
    },
    {
      "cell_type": "code",
      "source": [
        "X_train, y_train = X[:train_split], y[:train_split]\n",
        "X_test, y_test = X[train_split:], y[train_split:]\n",
        "\n",
        "len(X_train), len(y_train), len(X_test), len(y_test)"
      ],
      "metadata": {
        "colab": {
          "base_uri": "https://localhost:8080/"
        },
        "id": "q6Ff3bFhaXIG",
        "outputId": "c12b6e73-673b-4f92-bc87-4bdb3b8c5671"
      },
      "execution_count": 81,
      "outputs": [
        {
          "output_type": "execute_result",
          "data": {
            "text/plain": [
              "(40, 40, 10, 10)"
            ]
          },
          "metadata": {},
          "execution_count": 81
        }
      ]
    },
    {
      "cell_type": "code",
      "source": [
        "def plot_predictions(train_data=X_train,\n",
        "                    train_labels=y_train,\n",
        "                    test_data=X_test,\n",
        "                    test_labels=y_test,\n",
        "                    predictions=None):\n",
        "  plt.figure(figsize=(10, 7))\n",
        "\n",
        "  # plot training data in green\n",
        "  plt.scatter(train_data, train_labels, c=\"g\", s=4, label=\"Training data\")\n",
        "\n",
        "  # plot test data in red\n",
        "  plt.scatter(test_data, test_labels, c=\"b\", s=20, label=\"Testing data\")\n",
        "\n",
        "  if predictions is not None:\n",
        "    # plot predictions in blue\n",
        "    plt.scatter(test_data, predictions, c=\"r\", s=20, label=\"Predictions\")\n",
        "\n",
        "  # show legend\n",
        "  plt.legend(prop={\"size\": 20})"
      ],
      "metadata": {
        "id": "YQT2msNMa35A"
      },
      "execution_count": 82,
      "outputs": []
    },
    {
      "cell_type": "code",
      "source": [
        "plot_predictions()"
      ],
      "metadata": {
        "colab": {
          "base_uri": "https://localhost:8080/",
          "height": 599
        },
        "id": "lZTpMA9ZdwQV",
        "outputId": "01ce0583-962d-4a17-c37e-0ce5806cc9fa"
      },
      "execution_count": 83,
      "outputs": [
        {
          "output_type": "display_data",
          "data": {
            "text/plain": [
              "<Figure size 1000x700 with 1 Axes>"
            ],
            "image/png": "[encoded data removed]"
          },
          "metadata": {}
        }
      ]
    },
    {
      "cell_type": "markdown",
      "source": [
        "# Building Model\n",
        "Must watch these (for me only):\n",
        "\n",
        "Gradient descent - https://youtu.be/IHZwWFHWa-w\n",
        "\n",
        "Backpropagation - https://youtu.be/Ilg3gGewQ5U\n",
        "\n",
        "**Search about super().__init__()**"
      ],
      "metadata": {
        "id": "kWDoegXPdzXJ"
      }
    },
    {
      "cell_type": "code",
      "source": [
        "class CustomLinearRegression(nn.Module):\n",
        "  def __init__(self):\n",
        "    super().__init__()\n",
        "    self.weights = nn.Parameter(torch.randn(1, requires_grad=True, dtype=torch.float))\n",
        "    self.bias = nn.Parameter(torch.randn(1, requires_grad=True, dtype=torch.float))\n",
        "\n",
        "    # forward pass method in linear regression method\n",
        "  def forward(self, x: torch.Tensor) -> torch.Tensor: # type hint / annotation, means dtype of x should be torch.Tensor and -> means return type should be as specified after this symbol\n",
        "    return self.weights * x + self.bias"
      ],
      "metadata": {
        "id": "sauUcC7QTyB3"
      },
      "execution_count": 84,
      "outputs": []
    },
    {
      "cell_type": "markdown",
      "source": [
        "## PyTorch cheat sheet\n",
        "https://pytorch.org/tutorials/beginner/ptcheat.html"
      ],
      "metadata": {
        "id": "W5iVa2yec_hb"
      }
    },
    {
      "cell_type": "markdown",
      "source": [
        "# Check Model contents"
      ],
      "metadata": {
        "id": "08LRi6M5rXL4"
      }
    },
    {
      "cell_type": "code",
      "source": [
        "torch.manual_seed(42)\n",
        "model = CustomLinearRegression()\n",
        "\n",
        "list(model.parameters()) # model.parameters() is a generator so i converted it to list for visualizing"
      ],
      "metadata": {
        "colab": {
          "base_uri": "https://localhost:8080/"
        },
        "id": "sHwklH-Zr3Td",
        "outputId": "093e5036-b3e8-406a-cecd-eab7c2e3e3d3"
      },
      "execution_count": 85,
      "outputs": [
        {
          "output_type": "execute_result",
          "data": {
            "text/plain": [
              "[Parameter containing:\n",
              " tensor([0.3367], requires_grad=True),\n",
              " Parameter containing:\n",
              " tensor([0.1288], requires_grad=True)]"
            ]
          },
          "metadata": {},
          "execution_count": 85
        }
      ]
    },
    {
      "cell_type": "code",
      "source": [
        "model.state_dict()"
      ],
      "metadata": {
        "colab": {
          "base_uri": "https://localhost:8080/"
        },
        "id": "Oa3K6FQzr8GX",
        "outputId": "5a5dfac0-862e-44f6-ac4f-4a6e3d3498ef"
      },
      "execution_count": 86,
      "outputs": [
        {
          "output_type": "execute_result",
          "data": {
            "text/plain": [
              "OrderedDict([('weights', tensor([0.3367])), ('bias', tensor([0.1288]))])"
            ]
          },
          "metadata": {},
          "execution_count": 86
        }
      ]
    },
    {
      "cell_type": "markdown",
      "source": [
        "# Making Predictions without Training\n",
        "Turning of gradient tracking and only forward pass\n",
        "\n",
        "For reading differences between torch.no_grad() and torch.inference_mode() search these on twitter."
      ],
      "metadata": {
        "id": "Ut8Luw5hs72v"
      }
    },
    {
      "cell_type": "code",
      "source": [
        "with torch.inference_mode(): # torch.no_grad() can also be used. these mode just disable gradient tracking, for testing, faster calculation\n",
        "  y_preds = model(X_test) # can only use this code for getting predictions but would also track gradient.\n",
        "\n",
        "y_preds"
      ],
      "metadata": {
        "colab": {
          "base_uri": "https://localhost:8080/"
        },
        "id": "Z9C86XD-ee26",
        "outputId": "35c7aeb8-178d-4267-965d-3e15fdea4324"
      },
      "execution_count": 87,
      "outputs": [
        {
          "output_type": "execute_result",
          "data": {
            "text/plain": [
              "tensor([[0.3982],\n",
              "        [0.4049],\n",
              "        [0.4116],\n",
              "        [0.4184],\n",
              "        [0.4251],\n",
              "        [0.4318],\n",
              "        [0.4386],\n",
              "        [0.4453],\n",
              "        [0.4520],\n",
              "        [0.4588]])"
            ]
          },
          "metadata": {},
          "execution_count": 87
        }
      ]
    },
    {
      "cell_type": "code",
      "source": [
        "plot_predictions(predictions=y_preds)"
      ],
      "metadata": {
        "colab": {
          "base_uri": "https://localhost:8080/",
          "height": 599
        },
        "id": "wDEnsEKig80s",
        "outputId": "f407d02e-74c5-4853-8b16-90f01fe361fe"
      },
      "execution_count": 88,
      "outputs": [
        {
          "output_type": "display_data",
          "data": {
            "text/plain": [
              "<Figure size 1000x700 with 1 Axes>"
            ],
            "image/png": "[encoded data removed]"
          },
          "metadata": {}
        }
      ]
    },
    {
      "cell_type": "markdown",
      "source": [
        "# Training Model\n",
        "\n",
        "* Loss Function i.e. mean squared error\n",
        "* Optimizer i.e. gradient descent"
      ],
      "metadata": {
        "id": "A04HylxSg_kr"
      }
    },
    {
      "cell_type": "code",
      "source": [
        "loss_func = nn.L1Loss() # mean squared error\n",
        "optimizer = torch.optim.SGD(params = model.parameters(), lr=0.01) # stochastic gradient descent"
      ],
      "metadata": {
        "id": "xsbJe4mUlAYs"
      },
      "execution_count": 89,
      "outputs": []
    },
    {
      "source": [
        "from IPython.display import clear_output\n",
        "\n",
        "def plot_predictions_dynamic(train_data, train_labels, predictions=None):\n",
        "\n",
        "    clear_output(wait=True)  # Clear previous output\n",
        "    plt.figure(figsize=(10, 7))\n",
        "\n",
        "    # Plot training data in green\n",
        "    plt.scatter(train_data, train_labels, c=\"g\", s=4, label=\"Training data\")\n",
        "\n",
        "    if predictions is not None:\n",
        "        # Plot predictions in red\n",
        "        plt.plot(train_data, predictions, c=\"r\", label=\"Predictions\")\n",
        "\n",
        "    # Show legend\n",
        "    plt.legend(prop={\"size\": 10})\n",
        "    plt.show()\n"
      ],
      "cell_type": "code",
      "metadata": {
        "id": "itt0dVcY2jgL"
      },
      "execution_count": 90,
      "outputs": []
    },
    {
      "cell_type": "markdown",
      "source": [
        "**Why turn off grads after every iteration in the following loop?**"
      ],
      "metadata": {
        "id": "9_yCVEnizdgE"
      }
    },
    {
      "cell_type": "code",
      "source": [
        "epochs = 100\n",
        "\n",
        "for epoch in range(epochs):\n",
        "    model.train()  # Enable training mode (enables gradient tracking)\n",
        "\n",
        "    # Forward pass\n",
        "    y_preds = model(X_train)\n",
        "\n",
        "    # Plot predictions dynamically\n",
        "    plot_predictions_dynamic(\n",
        "        train_data=X_train.numpy(),\n",
        "        train_labels=y_train.numpy(),\n",
        "        predictions=y_preds.detach().numpy()\n",
        "    )\n",
        "\n",
        "    # Calculate loss\n",
        "    loss = loss_func(y_preds, y_train)\n",
        "\n",
        "    # Zero gradients\n",
        "    optimizer.zero_grad()\n",
        "\n",
        "    # Backpropagation\n",
        "    loss.backward()\n",
        "\n",
        "    # Update parameters\n",
        "    optimizer.step()\n",
        "\n",
        "    model.eval() # optional\n",
        "\n"
      ],
      "metadata": {
        "colab": {
          "base_uri": "https://localhost:8080/",
          "height": 599
        },
        "id": "fqydHcnkn0ge",
        "outputId": "830e6138-da10-46d3-f47c-67136b20b95c"
      },
      "execution_count": 91,
      "outputs": [
        {
          "output_type": "display_data",
          "data": {
            "text/plain": [
              "<Figure size 1000x700 with 1 Axes>"
            ],
            "image/png": "[encoded data removed]"
          },
          "metadata": {}
        }
      ]
    },
    {
      "cell_type": "code",
      "source": [
        "y_preds.detach().numpy()"
      ],
      "metadata": {
        "colab": {
          "base_uri": "https://localhost:8080/"
        },
        "id": "_spIV8PE1Y41",
        "outputId": "aa2d4509-6ad5-4128-b322-d68471ad7563"
      },
      "execution_count": null,
      "outputs": [
        {
          "output_type": "execute_result",
          "data": {
            "text/plain": [
              "array([[0.13880941],\n",
              "       [0.14562123],\n",
              "       [0.15243302],\n",
              "       [0.15924484],\n",
              "       [0.16605663],\n",
              "       [0.17286845],\n",
              "       [0.17968026],\n",
              "       [0.18649206],\n",
              "       [0.19330387],\n",
              "       [0.20011568],\n",
              "       [0.20692748],\n",
              "       [0.21373929],\n",
              "       [0.2205511 ],\n",
              "       [0.2273629 ],\n",
              "       [0.23417471],\n",
              "       [0.24098651],\n",
              "       [0.24779832],\n",
              "       [0.25461012],\n",
              "       [0.26142192],\n",
              "       [0.26823375],\n",
              "       [0.27504557],\n",
              "       [0.28185737],\n",
              "       [0.28866917],\n",
              "       [0.29548097],\n",
              "       [0.30229276],\n",
              "       [0.3091046 ],\n",
              "       [0.3159164 ],\n",
              "       [0.3227282 ],\n",
              "       [0.32954   ],\n",
              "       [0.3363518 ],\n",
              "       [0.3431636 ],\n",
              "       [0.34997544],\n",
              "       [0.35678723],\n",
              "       [0.36359903],\n",
              "       [0.37041086],\n",
              "       [0.37722266],\n",
              "       [0.38403445],\n",
              "       [0.39084628],\n",
              "       [0.39765808],\n",
              "       [0.40446988]], dtype=float32)"
            ]
          },
          "metadata": {},
          "execution_count": 23
        }
      ]
    },
    {
      "cell_type": "code",
      "source": [
        "# progress on youtube lecture soo far\n",
        "# 6:46:47"
      ],
      "metadata": {
        "id": "VUF1Z2fbttml"
      },
      "execution_count": null,
      "outputs": []
    },
    {
      "cell_type": "code",
      "source": [],
      "metadata": {
        "id": "VU5cDT46uqK9"
      },
      "execution_count": null,
      "outputs": []
    },
    {
      "cell_type": "code",
      "source": [],
      "metadata": {
        "id": "U2QPpNB7uqIG"
      },
      "execution_count": null,
      "outputs": []
    },
    {
      "cell_type": "code",
      "source": [],
      "metadata": {
        "id": "MHcsaILkuqD8"
      },
      "execution_count": null,
      "outputs": []
    },
    {
      "cell_type": "code",
      "source": [],
      "metadata": {
        "id": "3TeeONfPuqBp"
      },
      "execution_count": null,
      "outputs": []
    },
    {
      "cell_type": "code",
      "source": [],
      "metadata": {
        "id": "2Z3ulIEtup_N"
      },
      "execution_count": null,
      "outputs": []
    },
    {
      "cell_type": "code",
      "source": [],
      "metadata": {
        "id": "IPtR7l78up9B"
      },
      "execution_count": null,
      "outputs": []
    }
  ]
}